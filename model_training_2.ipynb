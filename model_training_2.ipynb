{
 "cells": [
  {
   "cell_type": "code",
   "execution_count": 1,
   "id": "0846b35b-0dfb-4a6e-bac4-fbbd3fb8875e",
   "metadata": {},
   "outputs": [],
   "source": [
    "import numpy as np\n",
    "import matplotlib.pyplot as plt\n",
    "from sklearn.model_selection import train_test_split\n",
    "from tensorflow.keras.preprocessing.text import Tokenizer\n",
    "from tensorflow.keras.preprocessing.sequence import pad_sequences\n",
    "from tensorflow.keras.models import Sequential, Model\n",
    "from tensorflow.keras.layers import LSTM, Dense, Embedding, Input, Dropout\n",
    "from tensorflow.keras.optimizers import Adam\n",
    "from tensorflow.keras.callbacks import ModelCheckpoint\n",
    "from nltk.translate.bleu_score import sentence_bleu\n",
    "import random"
   ]
  },
  {
   "cell_type": "code",
   "execution_count": 2,
   "id": "78faefb0-4c0a-4fab-8ab8-048b2cbda639",
   "metadata": {},
   "outputs": [],
   "source": [
    "# Load Dataset\n",
    "def load_data():\n",
    "    # Replace with actual dataset loading logic\n",
    "    input_texts = [\"Hi\", \"How are you?\", \"What is your name?\", \"Goodbye\"]\n",
    "    target_texts = [\"Hello\", \"I'm fine, thank you!\", \"I am a chatbot\", \"See you later\"]\n",
    "    return input_texts, target_texts"
   ]
  },
  {
   "cell_type": "code",
   "execution_count": 3,
   "id": "41c1e1ff-2fcf-4413-b635-a8a3bf1fbcdb",
   "metadata": {},
   "outputs": [],
   "source": [
    "# Preprocessing\n",
    "def preprocess_data(input_texts, target_texts, vocab_size, max_sequence_length):\n",
    "    tokenizer = Tokenizer(num_words=vocab_size, oov_token=\"<OOV>\")\n",
    "    tokenizer.fit_on_texts(input_texts + target_texts)\n",
    "    \n",
    "    input_sequences = tokenizer.texts_to_sequences(input_texts)\n",
    "    target_sequences = tokenizer.texts_to_sequences(target_texts)\n",
    "    \n",
    "    input_sequences = pad_sequences(input_sequences, maxlen=max_sequence_length, padding='post')\n",
    "    target_sequences = pad_sequences(target_sequences, maxlen=max_sequence_length, padding='post')\n",
    "\n",
    "    return input_sequences, target_sequences, tokenizer"
   ]
  },
  {
   "cell_type": "code",
   "execution_count": 4,
   "id": "54e65fd7-ecdd-436a-90de-56385b32e3f7",
   "metadata": {},
   "outputs": [],
   "source": [
    "# Define Basic LSTM Model\n",
    "def build_basic_seq2seq_model(vocab_size, embedding_dim, max_sequence_length):\n",
    "    model = Sequential([\n",
    "        Embedding(vocab_size, embedding_dim, input_length=max_sequence_length),\n",
    "        LSTM(128, return_sequences=True),\n",
    "        Dropout(0.5),\n",
    "        LSTM(128),\n",
    "        Dropout(0.5),\n",
    "        Dense(vocab_size, activation='softmax')\n",
    "    ])\n",
    "    model.compile(optimizer=Adam(), loss='sparse_categorical_crossentropy', metrics=['accuracy'])\n",
    "    return model"
   ]
  },
  {
   "cell_type": "code",
   "execution_count": 5,
   "id": "bafc3ad3-1365-4d0f-8312-ef87c43bb107",
   "metadata": {},
   "outputs": [],
   "source": [
    "# Define Attention-based Seq2Seq Model\n",
    "def build_attention_seq2seq_model(vocab_size, embedding_dim, max_sequence_length):\n",
    "    # Encoder\n",
    "    encoder_inputs = Input(shape=(max_sequence_length,))\n",
    "    encoder_embedding = Embedding(vocab_size, embedding_dim)(encoder_inputs)\n",
    "    encoder_lstm, state_h, state_c = LSTM(128, return_state=True)(encoder_embedding)\n",
    "\n",
    "    # Decoder\n",
    "    decoder_inputs = Input(shape=(max_sequence_length,))\n",
    "    decoder_embedding = Embedding(vocab_size, embedding_dim)(decoder_inputs)\n",
    "    decoder_lstm = LSTM(128, return_sequences=True, return_state=False)(decoder_embedding, initial_state=[state_h, state_c])\n",
    "    attention = Dense(1, activation='tanh')(decoder_lstm)\n",
    "    decoder_outputs = Dense(vocab_size, activation='softmax')(attention)\n",
    "\n",
    "    # Model\n",
    "    model = Model([encoder_inputs, decoder_inputs], decoder_outputs)\n",
    "    model.compile(optimizer=Adam(), loss='sparse_categorical_crossentropy', metrics=['accuracy'])\n",
    "    return model"
   ]
  },
  {
   "cell_type": "code",
   "execution_count": 6,
   "id": "dc1b419b-c4a1-4336-9a56-c5975deecf6e",
   "metadata": {},
   "outputs": [],
   "source": [
    "# Train Model\n",
    "def train_model(model, X_train, Y_train, epochs, batch_size):\n",
    "    history = model.fit(X_train, Y_train, epochs=epochs, batch_size=batch_size, validation_split=0.2)\n",
    "    return history"
   ]
  },
  {
   "cell_type": "code",
   "execution_count": 7,
   "id": "22848b17-d95e-48d5-970d-75584099ff4f",
   "metadata": {},
   "outputs": [],
   "source": [
    "# Evaluate Model\n",
    "def evaluate_model(model, tokenizer, test_input, test_target, max_sequence_length):\n",
    "    bleu_scores = []\n",
    "    for input_text, target_text in zip(test_input, test_target):\n",
    "        input_seq = tokenizer.texts_to_sequences([input_text])\n",
    "        input_seq = pad_sequences(input_seq, maxlen=max_sequence_length)\n",
    "        \n",
    "        prediction = model.predict(input_seq)\n",
    "        predicted_text = tokenizer.sequences_to_texts(np.argmax(prediction, axis=-1))\n",
    "\n",
    "        bleu_scores.append(sentence_bleu([target_text.split()], predicted_text.split()))\n",
    "\n",
    "    return np.mean(bleu_scores)"
   ]
  },
  {
   "cell_type": "code",
   "execution_count": 8,
   "id": "468cfdd5-16ac-4428-977a-31ee5895e144",
   "metadata": {},
   "outputs": [],
   "source": [
    "# Visualization\n",
    "def plot_training(history1, history2):\n",
    "    plt.figure(figsize=(12, 6))\n",
    "\n",
    "    # Basic Model\n",
    "    plt.plot(history1.history['loss'], label='Basic Model - Loss')\n",
    "    plt.plot(history1.history['val_loss'], label='Basic Model - Val Loss')\n",
    "\n",
    "    # Attention Model\n",
    "    plt.plot(history2.history['loss'], label='Attention Model - Loss')\n",
    "    plt.plot(history2.history['val_loss'], label='Attention Model - Val Loss')\n",
    "\n",
    "    plt.title('Training and Validation Loss')\n",
    "    plt.xlabel('Epochs')\n",
    "    plt.ylabel('Loss')\n",
    "    plt.legend()\n",
    "    plt.show()"
   ]
  },
  {
   "cell_type": "code",
   "execution_count": 9,
   "id": "ea7fbeb2-3010-4841-854b-97f1d1a60fc8",
   "metadata": {},
   "outputs": [],
   "source": [
    "# Main Workflow\n",
    "input_texts, target_texts = load_data()\n",
    "vocab_size = 5000\n",
    "embedding_dim = 128\n",
    "max_sequence_length = 10\n",
    "\n",
    "X_data, Y_data, tokenizer = preprocess_data(input_texts, target_texts, vocab_size, max_sequence_length)\n",
    "X_train, X_test, Y_train, Y_test = train_test_split(X_data, Y_data, test_size=0.2, random_state=42)"
   ]
  },
  {
   "cell_type": "code",
   "execution_count": 11,
   "id": "1158d873-2094-4813-8690-ca09ff77b0fe",
   "metadata": {},
   "outputs": [
    {
     "name": "stdout",
     "output_type": "stream",
     "text": [
      "Training Basic Model...\n",
      "Epoch 1/10\n"
     ]
    },
    {
     "ename": "InvalidArgumentError",
     "evalue": "Graph execution error:\n\nDetected at node 'sparse_categorical_crossentropy/SparseSoftmaxCrossEntropyWithLogits/SparseSoftmaxCrossEntropyWithLogits' defined at (most recent call last):\n    File \"C:\\Users\\Metaverse_KPMG\\anaconda3\\envs\\chatbot-env\\lib\\runpy.py\", line 197, in _run_module_as_main\n      return _run_code(code, main_globals, None,\n    File \"C:\\Users\\Metaverse_KPMG\\anaconda3\\envs\\chatbot-env\\lib\\runpy.py\", line 87, in _run_code\n      exec(code, run_globals)\n    File \"C:\\Users\\Metaverse_KPMG\\anaconda3\\envs\\chatbot-env\\lib\\site-packages\\ipykernel_launcher.py\", line 18, in <module>\n      app.launch_new_instance()\n    File \"C:\\Users\\Metaverse_KPMG\\anaconda3\\envs\\chatbot-env\\lib\\site-packages\\traitlets\\config\\application.py\", line 1075, in launch_instance\n      app.start()\n    File \"C:\\Users\\Metaverse_KPMG\\anaconda3\\envs\\chatbot-env\\lib\\site-packages\\ipykernel\\kernelapp.py\", line 739, in start\n      self.io_loop.start()\n    File \"C:\\Users\\Metaverse_KPMG\\anaconda3\\envs\\chatbot-env\\lib\\site-packages\\tornado\\platform\\asyncio.py\", line 205, in start\n      self.asyncio_loop.run_forever()\n    File \"C:\\Users\\Metaverse_KPMG\\anaconda3\\envs\\chatbot-env\\lib\\asyncio\\base_events.py\", line 601, in run_forever\n      self._run_once()\n    File \"C:\\Users\\Metaverse_KPMG\\anaconda3\\envs\\chatbot-env\\lib\\asyncio\\base_events.py\", line 1905, in _run_once\n      handle._run()\n    File \"C:\\Users\\Metaverse_KPMG\\anaconda3\\envs\\chatbot-env\\lib\\asyncio\\events.py\", line 80, in _run\n      self._context.run(self._callback, *self._args)\n    File \"C:\\Users\\Metaverse_KPMG\\anaconda3\\envs\\chatbot-env\\lib\\site-packages\\ipykernel\\kernelbase.py\", line 545, in dispatch_queue\n      await self.process_one()\n    File \"C:\\Users\\Metaverse_KPMG\\anaconda3\\envs\\chatbot-env\\lib\\site-packages\\ipykernel\\kernelbase.py\", line 534, in process_one\n      await dispatch(*args)\n    File \"C:\\Users\\Metaverse_KPMG\\anaconda3\\envs\\chatbot-env\\lib\\site-packages\\ipykernel\\kernelbase.py\", line 437, in dispatch_shell\n      await result\n    File \"C:\\Users\\Metaverse_KPMG\\anaconda3\\envs\\chatbot-env\\lib\\site-packages\\ipykernel\\ipkernel.py\", line 362, in execute_request\n      await super().execute_request(stream, ident, parent)\n    File \"C:\\Users\\Metaverse_KPMG\\anaconda3\\envs\\chatbot-env\\lib\\site-packages\\ipykernel\\kernelbase.py\", line 778, in execute_request\n      reply_content = await reply_content\n    File \"C:\\Users\\Metaverse_KPMG\\anaconda3\\envs\\chatbot-env\\lib\\site-packages\\ipykernel\\ipkernel.py\", line 449, in do_execute\n      res = shell.run_cell(\n    File \"C:\\Users\\Metaverse_KPMG\\anaconda3\\envs\\chatbot-env\\lib\\site-packages\\ipykernel\\zmqshell.py\", line 549, in run_cell\n      return super().run_cell(*args, **kwargs)\n    File \"C:\\Users\\Metaverse_KPMG\\anaconda3\\envs\\chatbot-env\\lib\\site-packages\\IPython\\core\\interactiveshell.py\", line 3024, in run_cell\n      result = self._run_cell(\n    File \"C:\\Users\\Metaverse_KPMG\\anaconda3\\envs\\chatbot-env\\lib\\site-packages\\IPython\\core\\interactiveshell.py\", line 3079, in _run_cell\n      result = runner(coro)\n    File \"C:\\Users\\Metaverse_KPMG\\anaconda3\\envs\\chatbot-env\\lib\\site-packages\\IPython\\core\\async_helpers.py\", line 129, in _pseudo_sync_runner\n      coro.send(None)\n    File \"C:\\Users\\Metaverse_KPMG\\anaconda3\\envs\\chatbot-env\\lib\\site-packages\\IPython\\core\\interactiveshell.py\", line 3284, in run_cell_async\n      has_raised = await self.run_ast_nodes(code_ast.body, cell_name,\n    File \"C:\\Users\\Metaverse_KPMG\\anaconda3\\envs\\chatbot-env\\lib\\site-packages\\IPython\\core\\interactiveshell.py\", line 3466, in run_ast_nodes\n      if await self.run_code(code, result, async_=asy):\n    File \"C:\\Users\\Metaverse_KPMG\\anaconda3\\envs\\chatbot-env\\lib\\site-packages\\IPython\\core\\interactiveshell.py\", line 3526, in run_code\n      exec(code_obj, self.user_global_ns, self.user_ns)\n    File \"C:\\Users\\Metaverse_KPMG\\AppData\\Local\\Temp\\ipykernel_24160\\4019647157.py\", line 4, in <module>\n      history_basic = train_model(basic_model, X_train, Y_train, epochs=10, batch_size=32)\n    File \"C:\\Users\\Metaverse_KPMG\\AppData\\Local\\Temp\\ipykernel_24160\\461917224.py\", line 3, in train_model\n      history = model.fit(X_train, Y_train, epochs=epochs, batch_size=batch_size, validation_split=0.2)\n    File \"C:\\Users\\Metaverse_KPMG\\anaconda3\\envs\\chatbot-env\\lib\\site-packages\\keras\\utils\\traceback_utils.py\", line 65, in error_handler\n      return fn(*args, **kwargs)\n    File \"C:\\Users\\Metaverse_KPMG\\anaconda3\\envs\\chatbot-env\\lib\\site-packages\\keras\\engine\\training.py\", line 1564, in fit\n      tmp_logs = self.train_function(iterator)\n    File \"C:\\Users\\Metaverse_KPMG\\anaconda3\\envs\\chatbot-env\\lib\\site-packages\\keras\\engine\\training.py\", line 1160, in train_function\n      return step_function(self, iterator)\n    File \"C:\\Users\\Metaverse_KPMG\\anaconda3\\envs\\chatbot-env\\lib\\site-packages\\keras\\engine\\training.py\", line 1146, in step_function\n      outputs = model.distribute_strategy.run(run_step, args=(data,))\n    File \"C:\\Users\\Metaverse_KPMG\\anaconda3\\envs\\chatbot-env\\lib\\site-packages\\keras\\engine\\training.py\", line 1135, in run_step\n      outputs = model.train_step(data)\n    File \"C:\\Users\\Metaverse_KPMG\\anaconda3\\envs\\chatbot-env\\lib\\site-packages\\keras\\engine\\training.py\", line 994, in train_step\n      loss = self.compute_loss(x, y, y_pred, sample_weight)\n    File \"C:\\Users\\Metaverse_KPMG\\anaconda3\\envs\\chatbot-env\\lib\\site-packages\\keras\\engine\\training.py\", line 1052, in compute_loss\n      return self.compiled_loss(\n    File \"C:\\Users\\Metaverse_KPMG\\anaconda3\\envs\\chatbot-env\\lib\\site-packages\\keras\\engine\\compile_utils.py\", line 265, in __call__\n      loss_value = loss_obj(y_t, y_p, sample_weight=sw)\n    File \"C:\\Users\\Metaverse_KPMG\\anaconda3\\envs\\chatbot-env\\lib\\site-packages\\keras\\losses.py\", line 152, in __call__\n      losses = call_fn(y_true, y_pred)\n    File \"C:\\Users\\Metaverse_KPMG\\anaconda3\\envs\\chatbot-env\\lib\\site-packages\\keras\\losses.py\", line 272, in call\n      return ag_fn(y_true, y_pred, **self._fn_kwargs)\n    File \"C:\\Users\\Metaverse_KPMG\\anaconda3\\envs\\chatbot-env\\lib\\site-packages\\keras\\losses.py\", line 2084, in sparse_categorical_crossentropy\n      return backend.sparse_categorical_crossentropy(\n    File \"C:\\Users\\Metaverse_KPMG\\anaconda3\\envs\\chatbot-env\\lib\\site-packages\\keras\\backend.py\", line 5630, in sparse_categorical_crossentropy\n      res = tf.nn.sparse_softmax_cross_entropy_with_logits(\nNode: 'sparse_categorical_crossentropy/SparseSoftmaxCrossEntropyWithLogits/SparseSoftmaxCrossEntropyWithLogits'\nlogits and labels must have the same first dimension, got logits shape [2,5000] and labels shape [20]\n\t [[{{node sparse_categorical_crossentropy/SparseSoftmaxCrossEntropyWithLogits/SparseSoftmaxCrossEntropyWithLogits}}]] [Op:__inference_train_function_11171]",
     "output_type": "error",
     "traceback": [
      "\u001b[1;31m---------------------------------------------------------------------------\u001b[0m",
      "\u001b[1;31mInvalidArgumentError\u001b[0m                      Traceback (most recent call last)",
      "Cell \u001b[1;32mIn[11], line 4\u001b[0m\n\u001b[0;32m      2\u001b[0m basic_model \u001b[38;5;241m=\u001b[39m build_basic_seq2seq_model(vocab_size, embedding_dim, max_sequence_length)\n\u001b[0;32m      3\u001b[0m \u001b[38;5;28mprint\u001b[39m(\u001b[38;5;124m\"\u001b[39m\u001b[38;5;124mTraining Basic Model...\u001b[39m\u001b[38;5;124m\"\u001b[39m)\n\u001b[1;32m----> 4\u001b[0m history_basic \u001b[38;5;241m=\u001b[39m \u001b[43mtrain_model\u001b[49m\u001b[43m(\u001b[49m\u001b[43mbasic_model\u001b[49m\u001b[43m,\u001b[49m\u001b[43m \u001b[49m\u001b[43mX_train\u001b[49m\u001b[43m,\u001b[49m\u001b[43m \u001b[49m\u001b[43mY_train\u001b[49m\u001b[43m,\u001b[49m\u001b[43m \u001b[49m\u001b[43mepochs\u001b[49m\u001b[38;5;241;43m=\u001b[39;49m\u001b[38;5;241;43m10\u001b[39;49m\u001b[43m,\u001b[49m\u001b[43m \u001b[49m\u001b[43mbatch_size\u001b[49m\u001b[38;5;241;43m=\u001b[39;49m\u001b[38;5;241;43m32\u001b[39;49m\u001b[43m)\u001b[49m\n",
      "Cell \u001b[1;32mIn[6], line 3\u001b[0m, in \u001b[0;36mtrain_model\u001b[1;34m(model, X_train, Y_train, epochs, batch_size)\u001b[0m\n\u001b[0;32m      2\u001b[0m \u001b[38;5;28;01mdef\u001b[39;00m \u001b[38;5;21mtrain_model\u001b[39m(model, X_train, Y_train, epochs, batch_size):\n\u001b[1;32m----> 3\u001b[0m     history \u001b[38;5;241m=\u001b[39m \u001b[43mmodel\u001b[49m\u001b[38;5;241;43m.\u001b[39;49m\u001b[43mfit\u001b[49m\u001b[43m(\u001b[49m\u001b[43mX_train\u001b[49m\u001b[43m,\u001b[49m\u001b[43m \u001b[49m\u001b[43mY_train\u001b[49m\u001b[43m,\u001b[49m\u001b[43m \u001b[49m\u001b[43mepochs\u001b[49m\u001b[38;5;241;43m=\u001b[39;49m\u001b[43mepochs\u001b[49m\u001b[43m,\u001b[49m\u001b[43m \u001b[49m\u001b[43mbatch_size\u001b[49m\u001b[38;5;241;43m=\u001b[39;49m\u001b[43mbatch_size\u001b[49m\u001b[43m,\u001b[49m\u001b[43m \u001b[49m\u001b[43mvalidation_split\u001b[49m\u001b[38;5;241;43m=\u001b[39;49m\u001b[38;5;241;43m0.2\u001b[39;49m\u001b[43m)\u001b[49m\n\u001b[0;32m      4\u001b[0m     \u001b[38;5;28;01mreturn\u001b[39;00m history\n",
      "File \u001b[1;32m~\\anaconda3\\envs\\chatbot-env\\lib\\site-packages\\keras\\utils\\traceback_utils.py:70\u001b[0m, in \u001b[0;36mfilter_traceback.<locals>.error_handler\u001b[1;34m(*args, **kwargs)\u001b[0m\n\u001b[0;32m     67\u001b[0m     filtered_tb \u001b[38;5;241m=\u001b[39m _process_traceback_frames(e\u001b[38;5;241m.\u001b[39m__traceback__)\n\u001b[0;32m     68\u001b[0m     \u001b[38;5;66;03m# To get the full stack trace, call:\u001b[39;00m\n\u001b[0;32m     69\u001b[0m     \u001b[38;5;66;03m# `tf.debugging.disable_traceback_filtering()`\u001b[39;00m\n\u001b[1;32m---> 70\u001b[0m     \u001b[38;5;28;01mraise\u001b[39;00m e\u001b[38;5;241m.\u001b[39mwith_traceback(filtered_tb) \u001b[38;5;28;01mfrom\u001b[39;00m \u001b[38;5;28;01mNone\u001b[39;00m\n\u001b[0;32m     71\u001b[0m \u001b[38;5;28;01mfinally\u001b[39;00m:\n\u001b[0;32m     72\u001b[0m     \u001b[38;5;28;01mdel\u001b[39;00m filtered_tb\n",
      "File \u001b[1;32m~\\anaconda3\\envs\\chatbot-env\\lib\\site-packages\\tensorflow\\python\\eager\\execute.py:54\u001b[0m, in \u001b[0;36mquick_execute\u001b[1;34m(op_name, num_outputs, inputs, attrs, ctx, name)\u001b[0m\n\u001b[0;32m     52\u001b[0m \u001b[38;5;28;01mtry\u001b[39;00m:\n\u001b[0;32m     53\u001b[0m   ctx\u001b[38;5;241m.\u001b[39mensure_initialized()\n\u001b[1;32m---> 54\u001b[0m   tensors \u001b[38;5;241m=\u001b[39m pywrap_tfe\u001b[38;5;241m.\u001b[39mTFE_Py_Execute(ctx\u001b[38;5;241m.\u001b[39m_handle, device_name, op_name,\n\u001b[0;32m     55\u001b[0m                                       inputs, attrs, num_outputs)\n\u001b[0;32m     56\u001b[0m \u001b[38;5;28;01mexcept\u001b[39;00m core\u001b[38;5;241m.\u001b[39m_NotOkStatusException \u001b[38;5;28;01mas\u001b[39;00m e:\n\u001b[0;32m     57\u001b[0m   \u001b[38;5;28;01mif\u001b[39;00m name \u001b[38;5;129;01mis\u001b[39;00m \u001b[38;5;129;01mnot\u001b[39;00m \u001b[38;5;28;01mNone\u001b[39;00m:\n",
      "\u001b[1;31mInvalidArgumentError\u001b[0m: Graph execution error:\n\nDetected at node 'sparse_categorical_crossentropy/SparseSoftmaxCrossEntropyWithLogits/SparseSoftmaxCrossEntropyWithLogits' defined at (most recent call last):\n    File \"C:\\Users\\Metaverse_KPMG\\anaconda3\\envs\\chatbot-env\\lib\\runpy.py\", line 197, in _run_module_as_main\n      return _run_code(code, main_globals, None,\n    File \"C:\\Users\\Metaverse_KPMG\\anaconda3\\envs\\chatbot-env\\lib\\runpy.py\", line 87, in _run_code\n      exec(code, run_globals)\n    File \"C:\\Users\\Metaverse_KPMG\\anaconda3\\envs\\chatbot-env\\lib\\site-packages\\ipykernel_launcher.py\", line 18, in <module>\n      app.launch_new_instance()\n    File \"C:\\Users\\Metaverse_KPMG\\anaconda3\\envs\\chatbot-env\\lib\\site-packages\\traitlets\\config\\application.py\", line 1075, in launch_instance\n      app.start()\n    File \"C:\\Users\\Metaverse_KPMG\\anaconda3\\envs\\chatbot-env\\lib\\site-packages\\ipykernel\\kernelapp.py\", line 739, in start\n      self.io_loop.start()\n    File \"C:\\Users\\Metaverse_KPMG\\anaconda3\\envs\\chatbot-env\\lib\\site-packages\\tornado\\platform\\asyncio.py\", line 205, in start\n      self.asyncio_loop.run_forever()\n    File \"C:\\Users\\Metaverse_KPMG\\anaconda3\\envs\\chatbot-env\\lib\\asyncio\\base_events.py\", line 601, in run_forever\n      self._run_once()\n    File \"C:\\Users\\Metaverse_KPMG\\anaconda3\\envs\\chatbot-env\\lib\\asyncio\\base_events.py\", line 1905, in _run_once\n      handle._run()\n    File \"C:\\Users\\Metaverse_KPMG\\anaconda3\\envs\\chatbot-env\\lib\\asyncio\\events.py\", line 80, in _run\n      self._context.run(self._callback, *self._args)\n    File \"C:\\Users\\Metaverse_KPMG\\anaconda3\\envs\\chatbot-env\\lib\\site-packages\\ipykernel\\kernelbase.py\", line 545, in dispatch_queue\n      await self.process_one()\n    File \"C:\\Users\\Metaverse_KPMG\\anaconda3\\envs\\chatbot-env\\lib\\site-packages\\ipykernel\\kernelbase.py\", line 534, in process_one\n      await dispatch(*args)\n    File \"C:\\Users\\Metaverse_KPMG\\anaconda3\\envs\\chatbot-env\\lib\\site-packages\\ipykernel\\kernelbase.py\", line 437, in dispatch_shell\n      await result\n    File \"C:\\Users\\Metaverse_KPMG\\anaconda3\\envs\\chatbot-env\\lib\\site-packages\\ipykernel\\ipkernel.py\", line 362, in execute_request\n      await super().execute_request(stream, ident, parent)\n    File \"C:\\Users\\Metaverse_KPMG\\anaconda3\\envs\\chatbot-env\\lib\\site-packages\\ipykernel\\kernelbase.py\", line 778, in execute_request\n      reply_content = await reply_content\n    File \"C:\\Users\\Metaverse_KPMG\\anaconda3\\envs\\chatbot-env\\lib\\site-packages\\ipykernel\\ipkernel.py\", line 449, in do_execute\n      res = shell.run_cell(\n    File \"C:\\Users\\Metaverse_KPMG\\anaconda3\\envs\\chatbot-env\\lib\\site-packages\\ipykernel\\zmqshell.py\", line 549, in run_cell\n      return super().run_cell(*args, **kwargs)\n    File \"C:\\Users\\Metaverse_KPMG\\anaconda3\\envs\\chatbot-env\\lib\\site-packages\\IPython\\core\\interactiveshell.py\", line 3024, in run_cell\n      result = self._run_cell(\n    File \"C:\\Users\\Metaverse_KPMG\\anaconda3\\envs\\chatbot-env\\lib\\site-packages\\IPython\\core\\interactiveshell.py\", line 3079, in _run_cell\n      result = runner(coro)\n    File \"C:\\Users\\Metaverse_KPMG\\anaconda3\\envs\\chatbot-env\\lib\\site-packages\\IPython\\core\\async_helpers.py\", line 129, in _pseudo_sync_runner\n      coro.send(None)\n    File \"C:\\Users\\Metaverse_KPMG\\anaconda3\\envs\\chatbot-env\\lib\\site-packages\\IPython\\core\\interactiveshell.py\", line 3284, in run_cell_async\n      has_raised = await self.run_ast_nodes(code_ast.body, cell_name,\n    File \"C:\\Users\\Metaverse_KPMG\\anaconda3\\envs\\chatbot-env\\lib\\site-packages\\IPython\\core\\interactiveshell.py\", line 3466, in run_ast_nodes\n      if await self.run_code(code, result, async_=asy):\n    File \"C:\\Users\\Metaverse_KPMG\\anaconda3\\envs\\chatbot-env\\lib\\site-packages\\IPython\\core\\interactiveshell.py\", line 3526, in run_code\n      exec(code_obj, self.user_global_ns, self.user_ns)\n    File \"C:\\Users\\Metaverse_KPMG\\AppData\\Local\\Temp\\ipykernel_24160\\4019647157.py\", line 4, in <module>\n      history_basic = train_model(basic_model, X_train, Y_train, epochs=10, batch_size=32)\n    File \"C:\\Users\\Metaverse_KPMG\\AppData\\Local\\Temp\\ipykernel_24160\\461917224.py\", line 3, in train_model\n      history = model.fit(X_train, Y_train, epochs=epochs, batch_size=batch_size, validation_split=0.2)\n    File \"C:\\Users\\Metaverse_KPMG\\anaconda3\\envs\\chatbot-env\\lib\\site-packages\\keras\\utils\\traceback_utils.py\", line 65, in error_handler\n      return fn(*args, **kwargs)\n    File \"C:\\Users\\Metaverse_KPMG\\anaconda3\\envs\\chatbot-env\\lib\\site-packages\\keras\\engine\\training.py\", line 1564, in fit\n      tmp_logs = self.train_function(iterator)\n    File \"C:\\Users\\Metaverse_KPMG\\anaconda3\\envs\\chatbot-env\\lib\\site-packages\\keras\\engine\\training.py\", line 1160, in train_function\n      return step_function(self, iterator)\n    File \"C:\\Users\\Metaverse_KPMG\\anaconda3\\envs\\chatbot-env\\lib\\site-packages\\keras\\engine\\training.py\", line 1146, in step_function\n      outputs = model.distribute_strategy.run(run_step, args=(data,))\n    File \"C:\\Users\\Metaverse_KPMG\\anaconda3\\envs\\chatbot-env\\lib\\site-packages\\keras\\engine\\training.py\", line 1135, in run_step\n      outputs = model.train_step(data)\n    File \"C:\\Users\\Metaverse_KPMG\\anaconda3\\envs\\chatbot-env\\lib\\site-packages\\keras\\engine\\training.py\", line 994, in train_step\n      loss = self.compute_loss(x, y, y_pred, sample_weight)\n    File \"C:\\Users\\Metaverse_KPMG\\anaconda3\\envs\\chatbot-env\\lib\\site-packages\\keras\\engine\\training.py\", line 1052, in compute_loss\n      return self.compiled_loss(\n    File \"C:\\Users\\Metaverse_KPMG\\anaconda3\\envs\\chatbot-env\\lib\\site-packages\\keras\\engine\\compile_utils.py\", line 265, in __call__\n      loss_value = loss_obj(y_t, y_p, sample_weight=sw)\n    File \"C:\\Users\\Metaverse_KPMG\\anaconda3\\envs\\chatbot-env\\lib\\site-packages\\keras\\losses.py\", line 152, in __call__\n      losses = call_fn(y_true, y_pred)\n    File \"C:\\Users\\Metaverse_KPMG\\anaconda3\\envs\\chatbot-env\\lib\\site-packages\\keras\\losses.py\", line 272, in call\n      return ag_fn(y_true, y_pred, **self._fn_kwargs)\n    File \"C:\\Users\\Metaverse_KPMG\\anaconda3\\envs\\chatbot-env\\lib\\site-packages\\keras\\losses.py\", line 2084, in sparse_categorical_crossentropy\n      return backend.sparse_categorical_crossentropy(\n    File \"C:\\Users\\Metaverse_KPMG\\anaconda3\\envs\\chatbot-env\\lib\\site-packages\\keras\\backend.py\", line 5630, in sparse_categorical_crossentropy\n      res = tf.nn.sparse_softmax_cross_entropy_with_logits(\nNode: 'sparse_categorical_crossentropy/SparseSoftmaxCrossEntropyWithLogits/SparseSoftmaxCrossEntropyWithLogits'\nlogits and labels must have the same first dimension, got logits shape [2,5000] and labels shape [20]\n\t [[{{node sparse_categorical_crossentropy/SparseSoftmaxCrossEntropyWithLogits/SparseSoftmaxCrossEntropyWithLogits}}]] [Op:__inference_train_function_11171]"
     ]
    }
   ],
   "source": [
    "# Basic Model\n",
    "basic_model = build_basic_seq2seq_model(vocab_size, embedding_dim, max_sequence_length)\n",
    "print(\"Training Basic Model...\")\n",
    "history_basic = train_model(basic_model, X_train, Y_train, epochs=10, batch_size=32)"
   ]
  },
  {
   "cell_type": "code",
   "execution_count": 12,
   "id": "d5eca559-4ed0-4a62-8761-6024e45345ac",
   "metadata": {
    "scrolled": true
   },
   "outputs": [
    {
     "name": "stdout",
     "output_type": "stream",
     "text": [
      "Training Attention Model...\n",
      "Epoch 1/10\n",
      "1/1 [==============================] - 3s 3s/step - loss: 8.5172 - accuracy: 0.0000e+00 - val_loss: 8.5153 - val_accuracy: 0.0000e+00\n",
      "Epoch 2/10\n",
      "1/1 [==============================] - 0s 43ms/step - loss: 8.5141 - accuracy: 0.0500 - val_loss: 8.5133 - val_accuracy: 0.0000e+00\n",
      "Epoch 3/10\n",
      "1/1 [==============================] - 0s 51ms/step - loss: 8.5108 - accuracy: 0.0500 - val_loss: 8.5111 - val_accuracy: 0.0000e+00\n",
      "Epoch 4/10\n",
      "1/1 [==============================] - 0s 51ms/step - loss: 8.5072 - accuracy: 0.0500 - val_loss: 8.5086 - val_accuracy: 0.0000e+00\n",
      "Epoch 5/10\n",
      "1/1 [==============================] - 0s 50ms/step - loss: 8.5031 - accuracy: 0.0500 - val_loss: 8.5059 - val_accuracy: 0.0000e+00\n",
      "Epoch 6/10\n",
      "1/1 [==============================] - 0s 52ms/step - loss: 8.4984 - accuracy: 0.0500 - val_loss: 8.5027 - val_accuracy: 0.0000e+00\n",
      "Epoch 7/10\n",
      "1/1 [==============================] - 0s 52ms/step - loss: 8.4931 - accuracy: 0.0500 - val_loss: 8.4991 - val_accuracy: 0.0000e+00\n",
      "Epoch 8/10\n",
      "1/1 [==============================] - 0s 50ms/step - loss: 8.4872 - accuracy: 0.0500 - val_loss: 8.4950 - val_accuracy: 0.0000e+00\n",
      "Epoch 9/10\n",
      "1/1 [==============================] - 0s 65ms/step - loss: 8.4808 - accuracy: 0.0500 - val_loss: 8.4906 - val_accuracy: 0.0000e+00\n",
      "Epoch 10/10\n",
      "1/1 [==============================] - 0s 52ms/step - loss: 8.4746 - accuracy: 0.0500 - val_loss: 8.4863 - val_accuracy: 0.0000e+00\n"
     ]
    }
   ],
   "source": [
    "# Attention Model\n",
    "attention_model = build_attention_seq2seq_model(vocab_size, embedding_dim, max_sequence_length)\n",
    "print(\"Training Attention Model...\")\n",
    "history_attention = train_model(attention_model, [X_train, X_train], Y_train, epochs=10, batch_size=32)"
   ]
  },
  {
   "cell_type": "code",
   "execution_count": null,
   "id": "b66c5ad5-1887-421b-9890-2cf206eec824",
   "metadata": {},
   "outputs": [],
   "source": [
    "# Plot Comparison\n",
    "plot_training(history_basic, history_attention)\n",
    "\n",
    "# Evaluate\n",
    "print(\"Evaluating Basic Model...\")\n",
    "basic_bleu = evaluate_model(basic_model, tokenizer, X_test, Y_test, max_sequence_length)\n",
    "\n",
    "print(\"Evaluating Attention Model...\")\n",
    "attention_bleu = evaluate_model(attention_model, tokenizer, X_test, Y_test, max_sequence_length)\n",
    "\n",
    "print(f\"Basic Model BLEU Score: {basic_bleu}\")\n",
    "print(f\"Attention Model BLEU Score: {attention_bleu}\")"
   ]
  }
 ],
 "metadata": {
  "kernelspec": {
   "display_name": "chatbot-env",
   "language": "python",
   "name": "python3"
  },
  "language_info": {
   "codemirror_mode": {
    "name": "ipython",
    "version": 3
   },
   "file_extension": ".py",
   "mimetype": "text/x-python",
   "name": "python",
   "nbconvert_exporter": "python",
   "pygments_lexer": "ipython3",
   "version": "3.9.18"
  }
 },
 "nbformat": 4,
 "nbformat_minor": 5
}
